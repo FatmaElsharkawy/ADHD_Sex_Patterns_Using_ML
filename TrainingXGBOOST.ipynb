{
  "nbformat": 4,
  "nbformat_minor": 0,
  "metadata": {
    "colab": {
      "provenance": [],
      "gpuType": "T4"
    },
    "kernelspec": {
      "name": "python3",
      "display_name": "Python 3"
    },
    "language_info": {
      "name": "python"
    },
    "accelerator": "GPU"
  },
  "cells": [
    {
      "cell_type": "markdown",
      "source": [
        "# Data Loading"
      ],
      "metadata": {
        "id": "rIfe33d7Sss4"
      }
    },
    {
      "cell_type": "code",
      "execution_count": null,
      "metadata": {
        "id": "tQu7ySivXXm_"
      },
      "outputs": [],
      "source": [
        "#get tabular data\n",
        "import pandas as pd\n",
        "data_tabular= pd.read_csv(\"/content/drive/MyDrive/Datathon 2025 shared space/Data/merged_training_data_final.csv\")\n",
        "print(data_tabular.shape)\n",
        "print(data_tabular.columns)\n"
      ]
    },
    {
      "cell_type": "code",
      "source": [
        "#drop global features\n",
        "#data_tabular.drop(columns=[\"subject\", \"wiener\", \"avg_path\", \"stoer_wagner_cut\", \"dijkstra_path_len\", \"matching_size\", \"barycenter_count\", \"cut_size\", \"conductance\", \"random_cut\"], inplace=True)\n",
        "#drop non-significant features\n",
        "data_tabular.drop(columns=[col for col in data_tabular.columns if col.startswith(\"MRI_Track_Scan_\")], inplace=True)\n",
        "data_tabular.drop(columns=[\"ADHD_Outcome_1\", \"ADHD_Outcome_0\", \"Sex_F_0\", \"Sex_F_1\"], inplace=True )\n",
        "#data_tabular.drop(columns=[\"MRI_Track_Age_at_Scan\", \"APQ_P_APQ_P_CP\", \"EHQ_EHQ_Total\", \"APQ_P_APQ_P_PM\", \"APQ_P_APQ_P_PP\", \"ColorVision_CV_Score\"], inplace=True )\n",
        "data_tabular.drop(columns=[col for col in data_tabular.columns if col.startswith(\"Basic_Demos_Enroll_Year_\")], inplace=True)\n",
        "data_tabular.drop(columns=[col for col in data_tabular.columns if col.startswith(\"Basic_Demos_Study_Site\")], inplace=True)\n",
        "data_tabular.drop(columns=[col for col in data_tabular.columns if col.startswith(\"Barratt_Barratt_P1_Occ\")], inplace=True)\n",
        "data_tabular.drop(columns=[col for col in data_tabular.columns if col.startswith(\"Barratt_Barratt_P2_Occ\")], inplace=True)\n",
        "data_tabular.drop(columns=[col for col in data_tabular.columns if col.startswith(\"Barratt_Barratt_P1_Edu\")], inplace=True)\n",
        "data_tabular.drop(columns=[col for col in data_tabular.columns if col.startswith(\"Barratt_Barratt_P2_Edu\")], inplace=True)"
      ],
      "metadata": {
        "id": "NReFv-jv0fIG"
      },
      "execution_count": null,
      "outputs": []
    },
    {
      "cell_type": "code",
      "source": [
        "print(data_tabular.shape)\n",
        "data_tabular.columns"
      ],
      "metadata": {
        "id": "ToB5Vm9Hxt8C"
      },
      "execution_count": null,
      "outputs": []
    },
    {
      "cell_type": "code",
      "source": [
        "#Three methods of local features\n",
        "#path1= /content/drive/MyDrive/Datathon 2025 shared space/Data/Local features/method3_selected_four_features.csv\n",
        "#path2= /content/drive/MyDrive/Datathon 2025 shared space/Data/Local features/top20_from_wrapper_stattest_method2_local_features.csv\n",
        "#path3 = /content/drive/MyDrive/Datathon 2025 shared space/Data/Local features/overlapping_local_features_wrapper_stattest.csv\n",
        "\n",
        "data_local=pd.read_csv('/content/drive/MyDrive/Datathon 2025 shared space/Data/Local features/overlapping_local_features_wrapper_stattest.csv')\n"
      ],
      "metadata": {
        "id": "SpoYRZkNXhwi"
      },
      "execution_count": null,
      "outputs": []
    },
    {
      "cell_type": "code",
      "source": [
        "data_merged=data_tabular.merge(data_local, on=\"participant_id\")"
      ],
      "metadata": {
        "id": "Mn_Jri2XZOds"
      },
      "execution_count": null,
      "outputs": []
    },
    {
      "cell_type": "code",
      "source": [
        "print(data_merged.shape)"
      ],
      "metadata": {
        "colab": {
          "base_uri": "https://localhost:8080/"
        },
        "id": "_5k2vCZMl4MW",
        "outputId": "040cd5c2-f9ce-45bb-8963-039f4c06cc06"
      },
      "execution_count": null,
      "outputs": [
        {
          "output_type": "stream",
          "name": "stdout",
          "text": [
            "(1212, 36)\n"
          ]
        }
      ]
    },
    {
      "cell_type": "markdown",
      "source": [
        "# XGBOOST"
      ],
      "metadata": {
        "id": "fT9deQfmS0BL"
      }
    },
    {
      "cell_type": "code",
      "source": [
        "# Encode combined target: 2 binary labels → 4 classes (0 to 3)\n",
        "y = data_merged[[\"ADHD_Outcome\", \"Sex_F\"]].apply(lambda row: int(row[\"ADHD_Outcome\"]) * 2 + int(row[\"Sex_F\"]), axis=1)\n",
        "X = data_merged.drop(columns=[\"participant_id\", \"ADHD_Outcome\", \"Sex_F\"])\n",
        "print(y)\n"
      ],
      "metadata": {
        "id": "5X4VVO3YZVr4",
        "colab": {
          "base_uri": "https://localhost:8080/"
        },
        "outputId": "ce86f50e-3a86-4bed-f2dc-69da96610a7b"
      },
      "execution_count": null,
      "outputs": [
        {
          "output_type": "stream",
          "name": "stdout",
          "text": [
            "0       2\n",
            "1       2\n",
            "2       1\n",
            "3       1\n",
            "4       2\n",
            "       ..\n",
            "1207    1\n",
            "1208    2\n",
            "1209    3\n",
            "1210    2\n",
            "1211    1\n",
            "Length: 1212, dtype: int64\n"
          ]
        }
      ]
    },
    {
      "cell_type": "code",
      "source": [
        "print(X.columns)"
      ],
      "metadata": {
        "colab": {
          "base_uri": "https://localhost:8080/"
        },
        "id": "Wakmlq52K1hO",
        "outputId": "ed4a76d2-9ec1-4031-9722-d5c648274fac"
      },
      "execution_count": null,
      "outputs": [
        {
          "output_type": "stream",
          "name": "stdout",
          "text": [
            "Index(['APQ_P_APQ_P_ID', 'APQ_P_APQ_P_INV', 'APQ_P_APQ_P_OPD',\n",
            "       'SDQ_SDQ_Conduct_Problems', 'SDQ_SDQ_Difficulties_Total',\n",
            "       'SDQ_SDQ_Emotional_Problems', 'SDQ_SDQ_Externalizing',\n",
            "       'SDQ_SDQ_Generating_Impact', 'SDQ_SDQ_Hyperactivity',\n",
            "       'SDQ_SDQ_Internalizing', 'SDQ_SDQ_Peer_Problems', 'SDQ_SDQ_Prosocial',\n",
            "       'PreInt_Demos_Fam_Child_Ethnicity_0.0',\n",
            "       'PreInt_Demos_Fam_Child_Ethnicity_1.0',\n",
            "       'PreInt_Demos_Fam_Child_Race_0.0', 'PreInt_Demos_Fam_Child_Race_1.0',\n",
            "       'PreInt_Demos_Fam_Child_Race_2.0', 'PreInt_Demos_Fam_Child_Race_3.0',\n",
            "       'PreInt_Demos_Fam_Child_Race_4.0', 'PreInt_Demos_Fam_Child_Race_7.0',\n",
            "       'PreInt_Demos_Fam_Child_Race_8.0', 'PreInt_Demos_Fam_Child_Race_9.0',\n",
            "       'Current Flow Betweenness_ROI100', 'Eigenvector Centrality_ROI4',\n",
            "       'Eigenvector Centrality_ROI45', 'PageRank_ROI189', 'PageRank_ROI4',\n",
            "       'Degree_ROI126', 'Information Centrality_ROI10',\n",
            "       'Information Centrality_ROI174', 'Information Centrality_ROI38',\n",
            "       'Information Centrality_ROI54', 'Information Centrality_ROI83'],\n",
            "      dtype='object')\n"
          ]
        }
      ]
    },
    {
      "cell_type": "code",
      "source": [
        "from xgboost import XGBClassifier\n",
        "from sklearn.model_selection import train_test_split\n",
        "from sklearn.utils.class_weight import compute_class_weight\n",
        "from sklearn.metrics import classification_report\n",
        "import numpy as np\n",
        "\n",
        "# Assume X and y are already defined (X: features, y: target labels)\n",
        "\n",
        "# Split the data (stratified to preserve class balance)\n",
        "X_train, X_test, y_train, y_test = train_test_split(\n",
        "    X, y,\n",
        "    test_size=0.1,\n",
        "    stratify=y,\n",
        "    random_state=42\n",
        ")\n",
        "\n",
        "# Compute class weights and sample weights for training data\n",
        "class_weights = compute_class_weight(class_weight='balanced',\n",
        "                                     classes=np.unique(y_train),\n",
        "                                     y=y_train)\n",
        "class_weights_dict = dict(zip(np.unique(y_train), class_weights))\n",
        "sample_weights = np.array([class_weights_dict[label] for label in y_train])\n",
        "\n",
        "# Instantiate and train the model\n",
        "model = XGBClassifier(\n",
        "    objective=\"multi:softprob\",\n",
        "    num_class=4,\n",
        "    learning_rate=0.05,\n",
        "    max_depth=7,\n",
        "    n_estimators=300,\n",
        "    eval_metric='mlogloss',\n",
        "    random_state=42\n",
        ")\n",
        "\n",
        "model.fit(X_train, y_train, sample_weight=sample_weights)\n",
        "\n",
        "# Evaluate on test set\n",
        "y_pred = model.predict(X_test)\n",
        "print(\"Test Set Evaluation:\\n\")\n",
        "print(classification_report(y_test, y_pred, digits=3))\n"
      ],
      "metadata": {
        "id": "l4DBVKS9brRa"
      },
      "execution_count": null,
      "outputs": []
    }
  ]
}